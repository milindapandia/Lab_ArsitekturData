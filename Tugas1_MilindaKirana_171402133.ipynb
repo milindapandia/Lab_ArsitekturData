{
 "cells": [
  {
   "cell_type": "code",
   "execution_count": 9,
   "metadata": {},
   "outputs": [
    {
     "name": "stdout",
     "output_type": "stream",
     "text": [
      "1\n",
      "2\n",
      "3\n",
      "5\n",
      "8\n",
      "13\n",
      "21\n",
      "34\n"
     ]
    }
   ],
   "source": [
    "class Fibonaci:\n",
    "    baris = 1\n",
    "    fib = 1\n",
    "    current = 1\n",
    "\n",
    "    def olah(mine):\n",
    "        print(mine.fib)\n",
    "        newFib = mine.fib + mine.baris;\n",
    "        mine.baris = mine.fib;\n",
    "        mine.fib = newFib;\n",
    "        mine.current+=1\n",
    "        return mine.fib;\n",
    "\n",
    "fibon = Fibonaci()\n",
    "while(fibon.current < 9):\n",
    "    k = fibon.olah()"
   ]
  },
  {
   "cell_type": "code",
   "execution_count": null,
   "metadata": {},
   "outputs": [],
   "source": []
  }
 ],
 "metadata": {
  "kernelspec": {
   "display_name": "Python 3",
   "language": "python",
   "name": "python3"
  },
  "language_info": {
   "codemirror_mode": {
    "name": "ipython",
    "version": 3
   },
   "file_extension": ".py",
   "mimetype": "text/x-python",
   "name": "python",
   "nbconvert_exporter": "python",
   "pygments_lexer": "ipython3",
   "version": "3.7.2"
  }
 },
 "nbformat": 4,
 "nbformat_minor": 2
}
